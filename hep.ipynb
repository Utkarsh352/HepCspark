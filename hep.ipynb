{
 "cells": [
  {
   "attachments": {},
   "cell_type": "markdown",
   "metadata": {},
   "source": [
    "importing SparkContext"
   ]
  },
  {
   "cell_type": "code",
   "execution_count": 1,
   "metadata": {},
   "outputs": [],
   "source": [
    "from pyspark import SparkContext"
   ]
  },
  {
   "cell_type": "code",
   "execution_count": 2,
   "metadata": {},
   "outputs": [],
   "source": [
    "spark = SparkContext(master='local[2]')"
   ]
  },
  {
   "cell_type": "code",
   "execution_count": 3,
   "metadata": {},
   "outputs": [
    {
     "data": {
      "text/html": [
       "\n",
       "        <div>\n",
       "            <p><b>SparkContext</b></p>\n",
       "\n",
       "            <p><a href=\"http://LAPTOP-3QA2K5MP:4040\">Spark UI</a></p>\n",
       "\n",
       "            <dl>\n",
       "              <dt>Version</dt>\n",
       "                <dd><code>v3.4.1</code></dd>\n",
       "              <dt>Master</dt>\n",
       "                <dd><code>local[2]</code></dd>\n",
       "              <dt>AppName</dt>\n",
       "                <dd><code>pyspark-shell</code></dd>\n",
       "            </dl>\n",
       "        </div>\n",
       "        "
      ],
      "text/plain": [
       "<SparkContext master=local[2] appName=pyspark-shell>"
      ]
     },
     "execution_count": 3,
     "metadata": {},
     "output_type": "execute_result"
    }
   ],
   "source": [
    "spark"
   ]
  },
  {
   "attachments": {},
   "cell_type": "markdown",
   "metadata": {},
   "source": [
    "importing sparkSesssion to perform operations"
   ]
  },
  {
   "cell_type": "code",
   "execution_count": 4,
   "metadata": {},
   "outputs": [],
   "source": [
    "from pyspark.sql import SparkSession"
   ]
  },
  {
   "cell_type": "code",
   "execution_count": 5,
   "metadata": {},
   "outputs": [],
   "source": [
    "sc = SparkSession.builder.appName(\"Hepatitis prediction\").getOrCreate()"
   ]
  },
  {
   "attachments": {},
   "cell_type": "markdown",
   "metadata": {},
   "source": [
    "we'll read it as a dataframe not an rdd since the dataset is not that huge"
   ]
  },
  {
   "cell_type": "code",
   "execution_count": 6,
   "metadata": {},
   "outputs": [],
   "source": [
    "df = sc.read.csv(\"HepatitisCdata.csv\", inferSchema=True, header=True)"
   ]
  },
  {
   "attachments": {},
   "cell_type": "markdown",
   "metadata": {},
   "source": [
    "Data Profiling"
   ]
  },
  {
   "cell_type": "code",
   "execution_count": 7,
   "metadata": {},
   "outputs": [
    {
     "name": "stdout",
     "output_type": "stream",
     "text": [
      "+---+-------------+---+---+----+----+----+----+----+-----+----+-----+----+----+\n",
      "|_c0|     Category|Age|Sex| ALB| ALP| ALT| AST| BIL|  CHE|CHOL| CREA| GGT|PROT|\n",
      "+---+-------------+---+---+----+----+----+----+----+-----+----+-----+----+----+\n",
      "|  1|0=Blood Donor| 32|  m|38.5|52.5| 7.7|22.1| 7.5| 6.93|3.23|106.0|12.1|  69|\n",
      "|  2|0=Blood Donor| 32|  m|38.5|70.3|  18|24.7| 3.9|11.17| 4.8| 74.0|15.6|76.5|\n",
      "|  3|0=Blood Donor| 32|  m|46.9|74.7|36.2|52.6| 6.1| 8.84| 5.2| 86.0|33.2|79.3|\n",
      "|  4|0=Blood Donor| 32|  m|43.2|  52|30.6|22.6|18.9| 7.33|4.74| 80.0|33.8|75.7|\n",
      "|  5|0=Blood Donor| 32|  m|39.2|74.1|32.6|24.8| 9.6| 9.15|4.32| 76.0|29.9|68.7|\n",
      "+---+-------------+---+---+----+----+----+----+----+-----+----+-----+----+----+\n",
      "only showing top 5 rows\n",
      "\n"
     ]
    }
   ],
   "source": [
    "df.show(5)"
   ]
  },
  {
   "cell_type": "code",
   "execution_count": 8,
   "metadata": {},
   "outputs": [
    {
     "name": "stdout",
     "output_type": "stream",
     "text": [
      "root\n",
      " |-- _c0: integer (nullable = true)\n",
      " |-- Category: string (nullable = true)\n",
      " |-- Age: integer (nullable = true)\n",
      " |-- Sex: string (nullable = true)\n",
      " |-- ALB: string (nullable = true)\n",
      " |-- ALP: string (nullable = true)\n",
      " |-- ALT: string (nullable = true)\n",
      " |-- AST: double (nullable = true)\n",
      " |-- BIL: double (nullable = true)\n",
      " |-- CHE: double (nullable = true)\n",
      " |-- CHOL: string (nullable = true)\n",
      " |-- CREA: double (nullable = true)\n",
      " |-- GGT: double (nullable = true)\n",
      " |-- PROT: string (nullable = true)\n",
      "\n"
     ]
    }
   ],
   "source": [
    "df.printSchema()"
   ]
  },
  {
   "attachments": {},
   "cell_type": "markdown",
   "metadata": {},
   "source": [
    "ALB: Albumin - It is a protein synthesized by the liver. Abnormal levels of albumin can indicate liver dysfunction.\n",
    "\n",
    "ALP: Alkaline Phosphatase - It is an enzyme found in various tissues, including the liver and bones. Elevated levels of ALP can be indicative of liver damage or other conditions.\n",
    "\n",
    "ALT: Alanine Aminotransferase - It is an enzyme primarily found in the liver. Increased levels of ALT in the bloodstream can be a sign of liver injury or disease.\n",
    "\n",
    "AST: Aspartate Aminotransferase - It is an enzyme present in various tissues, including the liver, heart, and muscles. Elevated levels of AST can indicate liver damage or other health conditions.\n",
    "\n",
    "BIL: Bilirubin - It is a yellow pigment produced during the breakdown of red blood cells. Elevated levels of bilirubin can indicate liver dysfunction or other conditions.\n",
    "\n",
    "CHE: Cholinesterase - It is an enzyme produced mainly by the liver. Abnormal levels of cholinesterase can be a sign of liver disease.\n",
    "\n",
    "CHOL: Cholesterol - It is a fatty substance found in the blood. Abnormal cholesterol levels can contribute to liver disease and other health issues.\n",
    "\n",
    "CREA: Creatinine - It is a waste product produced by muscles and eliminated by the kidneys. Elevated creatinine levels may indicate impaired kidney function.\n",
    "\n",
    "GGT: Gamma-Glutamyl Transferase - It is an enzyme found in various tissues, including the liver. Increased levels of GGT can indicate liver damage or disease.\n",
    "\n",
    "PROT: Protein - It refers to the total protein levels in the blood. Abnormal protein levels can be indicative of liver disease or other health conditions.\n",
    "\n",
    "These laboratory markers are commonly measured to assess liver function, diagnose liver diseases, and monitor the progression of hepatitis."
   ]
  },
  {
   "cell_type": "code",
   "execution_count": 9,
   "metadata": {},
   "outputs": [
    {
     "data": {
      "text/plain": [
       "615"
      ]
     },
     "execution_count": 9,
     "metadata": {},
     "output_type": "execute_result"
    }
   ],
   "source": [
    "df.count()"
   ]
  },
  {
   "cell_type": "code",
   "execution_count": 10,
   "metadata": {},
   "outputs": [
    {
     "name": "stdout",
     "output_type": "stream",
     "text": [
      "+--------------------+-----+\n",
      "|            Category|count|\n",
      "+--------------------+-----+\n",
      "|       0=Blood Donor|  533|\n",
      "|         3=Cirrhosis|   30|\n",
      "|          2=Fibrosis|   21|\n",
      "|0s=suspect Blood ...|    7|\n",
      "|         1=Hepatitis|   24|\n",
      "+--------------------+-----+\n",
      "\n"
     ]
    }
   ],
   "source": [
    "df.groupBy(\"Category\").count().show()"
   ]
  },
  {
   "cell_type": "code",
   "execution_count": 11,
   "metadata": {},
   "outputs": [
    {
     "data": {
      "text/plain": [
       "[('_c0', 'int'),\n",
       " ('Category', 'string'),\n",
       " ('Age', 'int'),\n",
       " ('Sex', 'string'),\n",
       " ('ALB', 'string'),\n",
       " ('ALP', 'string'),\n",
       " ('ALT', 'string'),\n",
       " ('AST', 'double'),\n",
       " ('BIL', 'double'),\n",
       " ('CHE', 'double'),\n",
       " ('CHOL', 'string'),\n",
       " ('CREA', 'double'),\n",
       " ('GGT', 'double'),\n",
       " ('PROT', 'string')]"
      ]
     },
     "execution_count": 11,
     "metadata": {},
     "output_type": "execute_result"
    }
   ],
   "source": [
    "df.dtypes"
   ]
  },
  {
   "attachments": {},
   "cell_type": "markdown",
   "metadata": {},
   "source": [
    "Converting strings to numbers"
   ]
  },
  {
   "cell_type": "code",
   "execution_count": 12,
   "metadata": {},
   "outputs": [],
   "source": [
    "from pyspark.ml.feature import StringIndexer, VectorAssembler"
   ]
  },
  {
   "cell_type": "code",
   "execution_count": 13,
   "metadata": {},
   "outputs": [],
   "source": [
    "category = StringIndexer(inputCol='Category', outputCol='dis').fit(df)\n",
    "df = category.transform(df)"
   ]
  },
  {
   "cell_type": "code",
   "execution_count": 14,
   "metadata": {},
   "outputs": [
    {
     "data": {
      "text/plain": [
       "['0=Blood Donor',\n",
       " '3=Cirrhosis',\n",
       " '1=Hepatitis',\n",
       " '2=Fibrosis',\n",
       " '0s=suspect Blood Donor']"
      ]
     },
     "execution_count": 14,
     "metadata": {},
     "output_type": "execute_result"
    }
   ],
   "source": [
    "category.labels"
   ]
  },
  {
   "cell_type": "code",
   "execution_count": 15,
   "metadata": {},
   "outputs": [
    {
     "name": "stdout",
     "output_type": "stream",
     "text": [
      "+---+\n",
      "|dis|\n",
      "+---+\n",
      "|0.0|\n",
      "|1.0|\n",
      "|4.0|\n",
      "|3.0|\n",
      "|2.0|\n",
      "+---+\n",
      "\n"
     ]
    }
   ],
   "source": [
    "df.select(['dis']).distinct().show()"
   ]
  },
  {
   "cell_type": "code",
   "execution_count": 16,
   "metadata": {},
   "outputs": [
    {
     "data": {
      "text/plain": [
       "[('_c0', 'int'),\n",
       " ('Category', 'string'),\n",
       " ('Age', 'int'),\n",
       " ('Sex', 'string'),\n",
       " ('ALB', 'string'),\n",
       " ('ALP', 'string'),\n",
       " ('ALT', 'string'),\n",
       " ('AST', 'double'),\n",
       " ('BIL', 'double'),\n",
       " ('CHE', 'double'),\n",
       " ('CHOL', 'string'),\n",
       " ('CREA', 'double'),\n",
       " ('GGT', 'double'),\n",
       " ('PROT', 'string'),\n",
       " ('dis', 'double')]"
      ]
     },
     "execution_count": 16,
     "metadata": {},
     "output_type": "execute_result"
    }
   ],
   "source": [
    "df.dtypes"
   ]
  },
  {
   "attachments": {},
   "cell_type": "markdown",
   "metadata": {},
   "source": [
    "Converting sex to double"
   ]
  },
  {
   "cell_type": "code",
   "execution_count": 17,
   "metadata": {},
   "outputs": [],
   "source": [
    "gender = StringIndexer(inputCol='Sex', outputCol=\"gender\").fit(df)\n",
    "df= gender.transform(df)"
   ]
  },
  {
   "cell_type": "code",
   "execution_count": 18,
   "metadata": {},
   "outputs": [
    {
     "name": "stdout",
     "output_type": "stream",
     "text": [
      "+---+-------------+---+---+----+----+----+----+----+-----+----+-----+----+----+---+------+\n",
      "|_c0|     Category|Age|Sex| ALB| ALP| ALT| AST| BIL|  CHE|CHOL| CREA| GGT|PROT|dis|gender|\n",
      "+---+-------------+---+---+----+----+----+----+----+-----+----+-----+----+----+---+------+\n",
      "|  1|0=Blood Donor| 32|  m|38.5|52.5| 7.7|22.1| 7.5| 6.93|3.23|106.0|12.1|  69|0.0|   0.0|\n",
      "|  2|0=Blood Donor| 32|  m|38.5|70.3|  18|24.7| 3.9|11.17| 4.8| 74.0|15.6|76.5|0.0|   0.0|\n",
      "|  3|0=Blood Donor| 32|  m|46.9|74.7|36.2|52.6| 6.1| 8.84| 5.2| 86.0|33.2|79.3|0.0|   0.0|\n",
      "|  4|0=Blood Donor| 32|  m|43.2|  52|30.6|22.6|18.9| 7.33|4.74| 80.0|33.8|75.7|0.0|   0.0|\n",
      "|  5|0=Blood Donor| 32|  m|39.2|74.1|32.6|24.8| 9.6| 9.15|4.32| 76.0|29.9|68.7|0.0|   0.0|\n",
      "|  6|0=Blood Donor| 32|  m|41.6|43.3|18.5|19.7|12.3| 9.92|6.05|111.0|91.0|  74|0.0|   0.0|\n",
      "|  7|0=Blood Donor| 32|  m|46.3|41.3|17.5|17.8| 8.5| 7.01|4.79| 70.0|16.9|74.5|0.0|   0.0|\n",
      "|  8|0=Blood Donor| 32|  m|42.2|41.9|35.8|31.1|16.1| 5.82| 4.6|109.0|21.5|67.1|0.0|   0.0|\n",
      "|  9|0=Blood Donor| 32|  m|50.9|65.5|23.2|21.2| 6.9| 8.69| 4.1| 83.0|13.7|71.3|0.0|   0.0|\n",
      "| 10|0=Blood Donor| 32|  m|42.4|86.3|20.3|20.0|35.2| 5.46|4.45| 81.0|15.9|69.9|0.0|   0.0|\n",
      "| 11|0=Blood Donor| 32|  m|44.3|52.3|21.7|22.4|17.2| 4.15|3.57| 78.0|24.1|75.4|0.0|   0.0|\n",
      "| 12|0=Blood Donor| 33|  m|46.4|68.2|10.3|20.0| 5.7| 7.36| 4.3| 79.0|18.7|68.6|0.0|   0.0|\n",
      "| 13|0=Blood Donor| 33|  m|36.3|78.6|23.6|22.0| 7.0| 8.56|5.38| 78.0|19.4|68.7|0.0|   0.0|\n",
      "| 14|0=Blood Donor| 33|  m|  39|51.7|15.9|24.0| 6.8| 6.46|3.38| 65.0| 7.0|70.4|0.0|   0.0|\n",
      "| 15|0=Blood Donor| 33|  m|38.7|39.8|22.5|23.0| 4.1| 4.63|4.97| 63.0|15.2|71.9|0.0|   0.0|\n",
      "| 16|0=Blood Donor| 33|  m|41.8|  65|33.1|38.0| 6.6| 8.83|4.43| 71.0|24.0|72.7|0.0|   0.0|\n",
      "| 17|0=Blood Donor| 33|  m|40.9|  73|17.2|22.9|10.0| 6.98|5.22| 90.0|14.7|72.4|0.0|   0.0|\n",
      "| 18|0=Blood Donor| 33|  m|45.2|88.3|32.4|31.2|10.1| 9.78|5.51|102.0|48.5|76.5|0.0|   0.0|\n",
      "| 19|0=Blood Donor| 33|  m|36.6|57.1|38.9|40.3|24.9| 9.62| 5.5|112.0|27.6|69.3|0.0|   0.0|\n",
      "| 20|0=Blood Donor| 33|  m|  42|63.1|32.6|34.9|11.2| 7.01|4.05|105.0|19.1|68.1|0.0|   0.0|\n",
      "+---+-------------+---+---+----+----+----+----+----+-----+----+-----+----+----+---+------+\n",
      "only showing top 20 rows\n",
      "\n"
     ]
    }
   ],
   "source": [
    "df.show()"
   ]
  },
  {
   "cell_type": "code",
   "execution_count": 19,
   "metadata": {},
   "outputs": [],
   "source": [
    "from pyspark.ml.feature import IndexToString"
   ]
  },
  {
   "cell_type": "code",
   "execution_count": 20,
   "metadata": {},
   "outputs": [],
   "source": [
    "its=IndexToString(inputCol='dis', outputCol='tar')\n",
    "itsdf=its.transform(df)"
   ]
  },
  {
   "cell_type": "code",
   "execution_count": 21,
   "metadata": {},
   "outputs": [
    {
     "name": "stdout",
     "output_type": "stream",
     "text": [
      "+--------------------+\n",
      "|                 tar|\n",
      "+--------------------+\n",
      "|       0=Blood Donor|\n",
      "|         3=Cirrhosis|\n",
      "|          2=Fibrosis|\n",
      "|0s=suspect Blood ...|\n",
      "|         1=Hepatitis|\n",
      "+--------------------+\n",
      "\n"
     ]
    }
   ],
   "source": [
    "itsdf.select('tar').distinct().show()"
   ]
  },
  {
   "cell_type": "code",
   "execution_count": 22,
   "metadata": {},
   "outputs": [
    {
     "data": {
      "text/plain": [
       "[('_c0', 'int'),\n",
       " ('Category', 'string'),\n",
       " ('Age', 'int'),\n",
       " ('Sex', 'string'),\n",
       " ('ALB', 'string'),\n",
       " ('ALP', 'string'),\n",
       " ('ALT', 'string'),\n",
       " ('AST', 'double'),\n",
       " ('BIL', 'double'),\n",
       " ('CHE', 'double'),\n",
       " ('CHOL', 'string'),\n",
       " ('CREA', 'double'),\n",
       " ('GGT', 'double'),\n",
       " ('PROT', 'string'),\n",
       " ('dis', 'double'),\n",
       " ('gender', 'double'),\n",
       " ('tar', 'string')]"
      ]
     },
     "execution_count": 22,
     "metadata": {},
     "output_type": "execute_result"
    }
   ],
   "source": [
    "itsdf.dtypes"
   ]
  },
  {
   "cell_type": "code",
   "execution_count": 23,
   "metadata": {},
   "outputs": [],
   "source": [
    "incol=['ALB','ALP','ALT','CHOL','PROT']"
   ]
  },
  {
   "attachments": {},
   "cell_type": "markdown",
   "metadata": {},
   "source": [
    "we need to convert all the string datatype columns to integer and we'll use a pipeline to do it all at once"
   ]
  },
  {
   "cell_type": "code",
   "execution_count": 24,
   "metadata": {},
   "outputs": [],
   "source": [
    "from pyspark.ml import Pipeline"
   ]
  },
  {
   "cell_type": "code",
   "execution_count": 25,
   "metadata": {},
   "outputs": [],
   "source": [
    "indexers = []\n",
    "\n",
    "for column in incol:\n",
    "    indexer = StringIndexer(inputCol=column, outputCol=f\"{column}_new\").fit(df)\n",
    "    indexers.append(indexer)\n",
    "\n",
    "pipeline = Pipeline(stages=indexers)\n",
    "df = pipeline.fit(df).transform(df)"
   ]
  },
  {
   "cell_type": "code",
   "execution_count": 26,
   "metadata": {},
   "outputs": [
    {
     "name": "stdout",
     "output_type": "stream",
     "text": [
      "+---+-------------+---+---+----+----+----+----+----+-----+----+-----+----+----+---+------+-------+-------+-------+--------+--------+\n",
      "|_c0|     Category|Age|Sex| ALB| ALP| ALT| AST| BIL|  CHE|CHOL| CREA| GGT|PROT|dis|gender|ALB_new|ALP_new|ALT_new|CHOL_new|PROT_new|\n",
      "+---+-------------+---+---+----+----+----+----+----+-----+----+-----+----+----+---+------+-------+-------+-------+--------+--------+\n",
      "|  1|0=Blood Donor| 32|  m|38.5|52.5| 7.7|22.1| 7.5| 6.93|3.23|106.0|12.1|  69|0.0|   0.0|   51.0|    1.0|  320.0|   169.0|    30.0|\n",
      "|  2|0=Blood Donor| 32|  m|38.5|70.3|  18|24.7| 3.9|11.17| 4.8| 74.0|15.6|76.5|0.0|   0.0|   51.0|   26.0|   91.0|   217.0|    65.0|\n",
      "|  3|0=Blood Donor| 32|  m|46.9|74.7|36.2|52.6| 6.1| 8.84| 5.2| 86.0|33.2|79.3|0.0|   0.0|   27.0|  116.0|  131.0|    52.0|    70.0|\n",
      "|  4|0=Blood Donor| 32|  m|43.2|  52|30.6|22.6|18.9| 7.33|4.74| 80.0|33.8|75.7|0.0|   0.0|   87.0|    9.0|  122.0|    19.0|    85.0|\n",
      "|  5|0=Blood Donor| 32|  m|39.2|74.1|32.6|24.8| 9.6| 9.15|4.32| 76.0|29.9|68.7|0.0|   0.0|   80.0|  331.0|   31.0|   205.0|    53.0|\n",
      "+---+-------------+---+---+----+----+----+----+----+-----+----+-----+----+----+---+------+-------+-------+-------+--------+--------+\n",
      "only showing top 5 rows\n",
      "\n"
     ]
    }
   ],
   "source": [
    "df.show(5)"
   ]
  },
  {
   "cell_type": "code",
   "execution_count": 27,
   "metadata": {},
   "outputs": [
    {
     "data": {
      "text/plain": [
       "[('_c0', 'int'),\n",
       " ('Category', 'string'),\n",
       " ('Age', 'int'),\n",
       " ('Sex', 'string'),\n",
       " ('ALB', 'string'),\n",
       " ('ALP', 'string'),\n",
       " ('ALT', 'string'),\n",
       " ('AST', 'double'),\n",
       " ('BIL', 'double'),\n",
       " ('CHE', 'double'),\n",
       " ('CHOL', 'string'),\n",
       " ('CREA', 'double'),\n",
       " ('GGT', 'double'),\n",
       " ('PROT', 'string'),\n",
       " ('dis', 'double'),\n",
       " ('gender', 'double'),\n",
       " ('ALB_new', 'double'),\n",
       " ('ALP_new', 'double'),\n",
       " ('ALT_new', 'double'),\n",
       " ('CHOL_new', 'double'),\n",
       " ('PROT_new', 'double')]"
      ]
     },
     "execution_count": 27,
     "metadata": {},
     "output_type": "execute_result"
    }
   ],
   "source": [
    "df.dtypes"
   ]
  },
  {
   "cell_type": "code",
   "execution_count": 28,
   "metadata": {},
   "outputs": [],
   "source": [
    "df1 = df.select(['Age', 'AST', 'BIL', 'CHE', 'CREA', 'GGT', 'gender', 'ALB_new', 'ALP_new', 'ALT_new', 'CHOL_new', 'PROT_new' , 'dis'])"
   ]
  },
  {
   "cell_type": "code",
   "execution_count": 29,
   "metadata": {},
   "outputs": [
    {
     "name": "stdout",
     "output_type": "stream",
     "text": [
      "+---+----+----+-----+-----+----+------+-------+-------+-------+--------+--------+---+\n",
      "|Age| AST| BIL|  CHE| CREA| GGT|gender|ALB_new|ALP_new|ALT_new|CHOL_new|PROT_new|dis|\n",
      "+---+----+----+-----+-----+----+------+-------+-------+-------+--------+--------+---+\n",
      "| 32|22.1| 7.5| 6.93|106.0|12.1|   0.0|   51.0|    1.0|  320.0|   169.0|    30.0|0.0|\n",
      "| 32|24.7| 3.9|11.17| 74.0|15.6|   0.0|   51.0|   26.0|   91.0|   217.0|    65.0|0.0|\n",
      "| 32|52.6| 6.1| 8.84| 86.0|33.2|   0.0|   27.0|  116.0|  131.0|    52.0|    70.0|0.0|\n",
      "| 32|22.6|18.9| 7.33| 80.0|33.8|   0.0|   87.0|    9.0|  122.0|    19.0|    85.0|0.0|\n",
      "| 32|24.8| 9.6| 9.15| 76.0|29.9|   0.0|   80.0|  331.0|   31.0|   205.0|    53.0|0.0|\n",
      "+---+----+----+-----+-----+----+------+-------+-------+-------+--------+--------+---+\n",
      "only showing top 5 rows\n",
      "\n"
     ]
    }
   ],
   "source": [
    "df1.show(5)"
   ]
  },
  {
   "cell_type": "code",
   "execution_count": 30,
   "metadata": {},
   "outputs": [],
   "source": [
    "df1=df1.toPandas().replace('NA',0).astype(float)"
   ]
  },
  {
   "cell_type": "code",
   "execution_count": 31,
   "metadata": {},
   "outputs": [
    {
     "data": {
      "text/plain": [
       "Age         float64\n",
       "AST         float64\n",
       "BIL         float64\n",
       "CHE         float64\n",
       "CREA        float64\n",
       "GGT         float64\n",
       "gender      float64\n",
       "ALB_new     float64\n",
       "ALP_new     float64\n",
       "ALT_new     float64\n",
       "CHOL_new    float64\n",
       "PROT_new    float64\n",
       "dis         float64\n",
       "dtype: object"
      ]
     },
     "execution_count": 31,
     "metadata": {},
     "output_type": "execute_result"
    }
   ],
   "source": [
    "df1.dtypes"
   ]
  },
  {
   "attachments": {},
   "cell_type": "markdown",
   "metadata": {},
   "source": [
    "Converting features into feature vectors"
   ]
  },
  {
   "cell_type": "code",
   "execution_count": 32,
   "metadata": {},
   "outputs": [],
   "source": [
    "from pyspark.ml.feature import VectorAssembler"
   ]
  },
  {
   "cell_type": "code",
   "execution_count": 33,
   "metadata": {},
   "outputs": [
    {
     "name": "stdout",
     "output_type": "stream",
     "text": [
      "Index(['Age', 'AST', 'BIL', 'CHE', 'CREA', 'GGT', 'gender', 'ALB_new',\n",
      "       'ALP_new', 'ALT_new', 'CHOL_new', 'PROT_new', 'dis'],\n",
      "      dtype='object')\n"
     ]
    }
   ],
   "source": [
    "print(df1.columns)"
   ]
  },
  {
   "attachments": {},
   "cell_type": "markdown",
   "metadata": {},
   "source": [
    "Converting pandas Dataframe back to pyspark dataframe"
   ]
  },
  {
   "cell_type": "code",
   "execution_count": 34,
   "metadata": {},
   "outputs": [],
   "source": [
    "df1= sc.createDataFrame(df1)"
   ]
  },
  {
   "cell_type": "code",
   "execution_count": 35,
   "metadata": {},
   "outputs": [],
   "source": [
    "cols=['Age', 'AST', 'BIL', 'CHE', 'CREA', 'GGT', 'gender', 'ALB_new', 'ALP_new', 'ALT_new', 'CHOL_new', 'PROT_new', 'dis']"
   ]
  },
  {
   "cell_type": "code",
   "execution_count": 36,
   "metadata": {},
   "outputs": [],
   "source": [
    "fea= VectorAssembler(inputCols=cols, outputCol='features')"
   ]
  },
  {
   "cell_type": "code",
   "execution_count": 37,
   "metadata": {},
   "outputs": [],
   "source": [
    "df2=fea.transform(df1)"
   ]
  },
  {
   "cell_type": "code",
   "execution_count": 38,
   "metadata": {},
   "outputs": [
    {
     "name": "stdout",
     "output_type": "stream",
     "text": [
      "+----+----+----+-----+-----+----+------+-------+-------+-------+--------+--------+---+--------------------+\n",
      "| Age| AST| BIL|  CHE| CREA| GGT|gender|ALB_new|ALP_new|ALT_new|CHOL_new|PROT_new|dis|            features|\n",
      "+----+----+----+-----+-----+----+------+-------+-------+-------+--------+--------+---+--------------------+\n",
      "|32.0|22.1| 7.5| 6.93|106.0|12.1|   0.0|   51.0|    1.0|  320.0|   169.0|    30.0|0.0|[32.0,22.1,7.5,6....|\n",
      "|32.0|24.7| 3.9|11.17| 74.0|15.6|   0.0|   51.0|   26.0|   91.0|   217.0|    65.0|0.0|[32.0,24.7,3.9,11...|\n",
      "|32.0|52.6| 6.1| 8.84| 86.0|33.2|   0.0|   27.0|  116.0|  131.0|    52.0|    70.0|0.0|[32.0,52.6,6.1,8....|\n",
      "|32.0|22.6|18.9| 7.33| 80.0|33.8|   0.0|   87.0|    9.0|  122.0|    19.0|    85.0|0.0|[32.0,22.6,18.9,7...|\n",
      "|32.0|24.8| 9.6| 9.15| 76.0|29.9|   0.0|   80.0|  331.0|   31.0|   205.0|    53.0|0.0|[32.0,24.8,9.6,9....|\n",
      "|32.0|19.7|12.3| 9.92|111.0|91.0|   0.0|   33.0|  217.0|   50.0|    65.0|    39.0|0.0|[32.0,19.7,12.3,9...|\n",
      "|32.0|17.8| 8.5| 7.01| 70.0|16.9|   0.0|   26.0|  208.0|   20.0|   106.0|    24.0|0.0|[32.0,17.8,8.5,7....|\n",
      "|32.0|31.1|16.1| 5.82|109.0|21.5|   0.0|   35.0|  211.0|   32.0|    16.0|    50.0|0.0|[32.0,31.1,16.1,5...|\n",
      "|32.0|21.2| 6.9| 8.69| 83.0|13.7|   0.0|  174.0|   92.0|  103.0|    90.0|     6.0|0.0|[32.0,21.2,6.9,8....|\n",
      "|32.0|20.0|35.2| 5.46| 81.0|15.9|   0.0|   36.0|  135.0|   96.0|    40.0|     2.0|0.0|[32.0,20.0,35.2,5...|\n",
      "|32.0|22.4|17.2| 4.15| 78.0|24.1|   0.0|   21.0|   67.0|  195.0|   177.0|    25.0|0.0|[32.0,22.4,17.2,4...|\n",
      "|33.0|20.0| 5.7| 7.36| 79.0|18.7|   0.0|    4.0|   97.0|  153.0|    94.0|   114.0|0.0|[33.0,20.0,5.7,7....|\n",
      "|33.0|22.0| 7.0| 8.56| 78.0|19.4|   0.0|   45.0|   29.0|  105.0|    28.0|    53.0|0.0|[33.0,22.0,7.0,8....|\n",
      "|33.0|24.0| 6.8| 6.46| 65.0| 7.0|   0.0|    0.0|   65.0|   18.0|   172.0|    57.0|0.0|[33.0,24.0,6.8,6....|\n",
      "|33.0|23.0| 4.1| 4.63| 63.0|15.2|   0.0|   18.0|   44.0|   56.0|   112.0|     0.0|0.0|[33.0,23.0,4.1,4....|\n",
      "|33.0|38.0| 6.6| 8.83| 71.0|24.0|   0.0|   61.0|   21.0|   71.0|     6.0|    18.0|0.0|[33.0,38.0,6.6,8....|\n",
      "|33.0|22.9|10.0| 6.98| 90.0|14.7|   0.0|   83.0|  324.0|    4.0|    25.0|     4.0|0.0|[33.0,22.9,10.0,6...|\n",
      "|33.0|31.2|10.1| 9.78|102.0|48.5|   0.0|  118.0|   34.0|  233.0|    58.0|    65.0|0.0|[33.0,31.2,10.1,9...|\n",
      "|33.0|40.3|24.9| 9.62|112.0|27.6|   0.0|   46.0|   76.0|  136.0|    57.0|     9.0|0.0|[33.0,40.3,24.9,9...|\n",
      "|33.0|34.9|11.2| 7.01|105.0|19.1|   0.0|    7.0|  287.0|   31.0|    87.0|    28.0|0.0|[33.0,34.9,11.2,7...|\n",
      "+----+----+----+-----+-----+----+------+-------+-------+-------+--------+--------+---+--------------------+\n",
      "only showing top 20 rows\n",
      "\n"
     ]
    }
   ],
   "source": [
    "df2.show()"
   ]
  },
  {
   "cell_type": "code",
   "execution_count": 39,
   "metadata": {},
   "outputs": [],
   "source": [
    "traind,testd= df2.randomSplit([0.69,0.31])"
   ]
  },
  {
   "attachments": {},
   "cell_type": "markdown",
   "metadata": {},
   "source": [
    "Using Logistics Regression"
   ]
  },
  {
   "cell_type": "code",
   "execution_count": 40,
   "metadata": {},
   "outputs": [],
   "source": [
    "from pyspark.ml.classification import LogisticRegression"
   ]
  },
  {
   "cell_type": "code",
   "execution_count": 41,
   "metadata": {},
   "outputs": [],
   "source": [
    "lr= LogisticRegression(featuresCol='features', labelCol='dis')"
   ]
  },
  {
   "cell_type": "code",
   "execution_count": 42,
   "metadata": {},
   "outputs": [],
   "source": [
    "lrm=lr.fit(traind)"
   ]
  },
  {
   "cell_type": "code",
   "execution_count": 43,
   "metadata": {},
   "outputs": [],
   "source": [
    "y=lrm.transform(testd)"
   ]
  },
  {
   "cell_type": "code",
   "execution_count": 44,
   "metadata": {},
   "outputs": [
    {
     "name": "stdout",
     "output_type": "stream",
     "text": [
      "['Age', 'AST', 'BIL', 'CHE', 'CREA', 'GGT', 'gender', 'ALB_new', 'ALP_new', 'ALT_new', 'CHOL_new', 'PROT_new', 'dis', 'features', 'rawPrediction', 'probability', 'prediction']\n"
     ]
    }
   ],
   "source": [
    "print(y.columns)"
   ]
  },
  {
   "cell_type": "code",
   "execution_count": 45,
   "metadata": {},
   "outputs": [
    {
     "name": "stdout",
     "output_type": "stream",
     "text": [
      "+---+--------------------+--------------------+----------+\n",
      "|dis|       rawPrediction|         probability|prediction|\n",
      "+---+--------------------+--------------------+----------+\n",
      "|0.0|[106.042115101311...|[0.99999999999999...|       0.0|\n",
      "|0.0|[129.309596668961...|[1.0,4.0295589392...|       0.0|\n",
      "|0.0|[106.396825184891...|[1.0,2.9066656679...|       0.0|\n",
      "|0.0|[87.1281072106328...|[0.99999999999998...|       0.0|\n",
      "|0.0|[106.302912339158...|[0.99999999999999...|       0.0|\n",
      "|0.0|[87.9997635429729...|[0.97217391102438...|       0.0|\n",
      "|0.0|[101.334132258812...|[1.0,8.1168005868...|       0.0|\n",
      "|0.0|[89.8236588602807...|[1.0,1.2277951721...|       0.0|\n",
      "|0.0|[100.525785949037...|[0.99999999999999...|       0.0|\n",
      "|0.0|[93.262505284484,...|[0.99999748883694...|       0.0|\n",
      "|0.0|[117.877138273464...|[1.0,1.8922452351...|       0.0|\n",
      "|0.0|[96.3817711696228...|[1.0,1.4678409720...|       0.0|\n",
      "|0.0|[104.269492354541...|[1.0,2.1469794485...|       0.0|\n",
      "|0.0|[105.391233937039...|[1.0,1.3208529932...|       0.0|\n",
      "|0.0|[143.188821769240...|[1.0,8.6865421067...|       0.0|\n",
      "|0.0|[100.818261504563...|[1.0,8.9823219582...|       0.0|\n",
      "|0.0|[113.512043337387...|[1.0,7.9994051251...|       0.0|\n",
      "|0.0|[106.742731555553...|[1.0,3.1490786948...|       0.0|\n",
      "|0.0|[121.650387461043...|[1.0,2.4565998452...|       0.0|\n",
      "|0.0|[131.905759480948...|[1.0,8.3145525370...|       0.0|\n",
      "+---+--------------------+--------------------+----------+\n",
      "only showing top 20 rows\n",
      "\n"
     ]
    }
   ],
   "source": [
    "y.select(['dis', 'rawPrediction', 'probability', 'prediction']).show()"
   ]
  },
  {
   "attachments": {},
   "cell_type": "markdown",
   "metadata": {},
   "source": [
    "Model Evaluation"
   ]
  },
  {
   "cell_type": "code",
   "execution_count": 46,
   "metadata": {},
   "outputs": [],
   "source": [
    "from pyspark.ml.evaluation import MulticlassClassificationEvaluator"
   ]
  },
  {
   "cell_type": "code",
   "execution_count": 47,
   "metadata": {},
   "outputs": [],
   "source": [
    "eval= MulticlassClassificationEvaluator(labelCol='dis', metricName=\"accuracy\")"
   ]
  },
  {
   "cell_type": "code",
   "execution_count": 48,
   "metadata": {},
   "outputs": [
    {
     "data": {
      "text/plain": [
       "0.9646464646464646"
      ]
     },
     "execution_count": 48,
     "metadata": {},
     "output_type": "execute_result"
    }
   ],
   "source": [
    "eval.evaluate(y)"
   ]
  },
  {
   "cell_type": "code",
   "execution_count": 49,
   "metadata": {},
   "outputs": [],
   "source": [
    "from pyspark.mllib.evaluation import MulticlassMetrics"
   ]
  },
  {
   "attachments": {},
   "cell_type": "markdown",
   "metadata": {},
   "source": [
    "Creating a RDD consisting of dis(disease) and prediction"
   ]
  },
  {
   "cell_type": "code",
   "execution_count": 50,
   "metadata": {},
   "outputs": [
    {
     "name": "stderr",
     "output_type": "stream",
     "text": [
      "C:\\Users\\Utkarsh Mahajan\\AppData\\Local\\Packages\\PythonSoftwareFoundation.Python.3.11_qbz5n2kfra8p0\\LocalCache\\local-packages\\Python311\\site-packages\\pyspark\\sql\\context.py:157: FutureWarning: Deprecated in 3.0.0. Use SparkSession.builder.getOrCreate() instead.\n",
      "  warnings.warn(\n"
     ]
    }
   ],
   "source": [
    "lrmetrics =MulticlassMetrics(y['dis', 'prediction'].rdd)"
   ]
  },
  {
   "cell_type": "code",
   "execution_count": 51,
   "metadata": {},
   "outputs": [
    {
     "name": "stdout",
     "output_type": "stream",
     "text": [
      "the accuracy of this model is 96.46% \n"
     ]
    }
   ],
   "source": [
    "print(f\"the accuracy of this model is {round(lrmetrics.accuracy*100,2)}% \")"
   ]
  }
 ],
 "metadata": {
  "kernelspec": {
   "display_name": "Python 3",
   "language": "python",
   "name": "python3"
  },
  "language_info": {
   "codemirror_mode": {
    "name": "ipython",
    "version": 3
   },
   "file_extension": ".py",
   "mimetype": "text/x-python",
   "name": "python",
   "nbconvert_exporter": "python",
   "pygments_lexer": "ipython3",
   "version": "3.11.4"
  },
  "orig_nbformat": 4,
  "vscode": {
   "interpreter": {
    "hash": "59b35d282a957e5718614f346bda81ad4d8d1407ed1c72789e7af171e8c0f949"
   }
  }
 },
 "nbformat": 4,
 "nbformat_minor": 2
}
